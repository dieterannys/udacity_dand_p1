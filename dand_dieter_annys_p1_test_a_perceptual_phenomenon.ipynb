{
 "cells": [
  {
   "cell_type": "markdown",
   "metadata": {},
   "source": [
    "# Project 1: Test a Perceptual Phenomenon\n",
    "*by Dieter Annys*"
   ]
  },
  {
   "cell_type": "markdown",
   "metadata": {},
   "source": [
    "## Experiment description\n",
    "\n",
    "> In a Stroop task, participants are presented with a list of words, with each word displayed in a color of ink. The participant’s task is to say out loud the color of the ink in which the word is printed. The task has two conditions: a congruent words condition, and an incongruent words condition. In the congruent words condition, the words being displayed are color words whose names match the colors in which they are printed: for example **<span style=\"color:red\">RED</span>**, **<span style=\"color:blue\">BLUE</span>**. In the incongruent words condition, the words displayed are color words whose names do not match the colors in which they are printed: for example **<span style=\"color:green\">PURPLE</span>**, **<span style=\"color:purple\">ORANGE</span>**. In each case, we measure the time it takes to name the ink colors in equally-sized lists. Each participant will go through and record a time from each condition."
   ]
  },
  {
   "cell_type": "markdown",
   "metadata": {},
   "source": [
    "## Question 1: What is our independent variable? What is our dependent variable?\n",
    "\n",
    "- **Independent variable**: congruency of the word with its ink color\n",
    "- **Dependent variable**: the time it takes to name the ink color [sec]"
   ]
  },
  {
   "cell_type": "markdown",
   "metadata": {},
   "source": [
    "## Question 2: What is an appropriate set of hypotheses for this task? What kind of statistical test do you expect to perform? Justify your choices.\n",
    "\n",
    "- **Null hypothesis**: there is no significant difference in time needed to read congruent words versus incongruent words\n",
    "- **Alternative hypothesis**: there is a significant difference in time needed. \n",
    "\n",
    "Although my intuition says that the time needed for incongruent words will always tend to be higher than time needed for congruent words, I want to keep an open mind about the direction of the test and make no assumptions. I also don't favor any particular outcome, I am only interested in what the numbers say. That's why I will go for a **two-tailed test**.\n",
    "\n",
    "Mathematically the hypothesis are the following:\n",
    "\n",
    "$$H_0 \\rightarrow \\mu_{congruent} - \\mu_{incongruent} = 0$$\n",
    "\n",
    "$$H_A \\rightarrow \\mu_{congruent} - \\mu_{incongruent} \\ne 0$$\n",
    "\n",
    "With $\\mu_{congruent}$ and $\\mu_{incongruent}$ being the population means for the congruent words condition and incongruent words respectively. This is because we use the samples to make hypotheses about the population, therefore the hypothesis is expressed in population parameters.\n",
    "\n",
    "I will perform a **two-tailed t-test for two dependent samples**\n",
    "- Two-tailed because I state no preference for direction of the alternative hypothesis\n",
    "- t-test because I am comparing samples to eachother rather than to a population with known parameters\n",
    "- The samples are **dependent** because it's the same group of subjects repeating the experiment\n",
    "- I will test for a $\\alpha$ level of 0.05, meaning a less than 5% chance the difference in sample means is due to chance"
   ]
  },
  {
   "cell_type": "markdown",
   "metadata": {},
   "source": [
    "## Performing the Test\n",
    "\n",
    "[Following this link](https://faculty.washington.edu/chudler/java/ready.html) I performed the test myself, with following results:\n",
    "\n",
    "- Congruent condition: 15.362 s\n",
    "- Incongruent condition: 29.435 s"
   ]
  },
  {
   "cell_type": "markdown",
   "metadata": {},
   "source": [
    "## Importing the Provided Data"
   ]
  },
  {
   "cell_type": "code",
   "execution_count": 15,
   "metadata": {
    "collapsed": true
   },
   "outputs": [],
   "source": [
    "# Importing all necessary libraries for analysis\n",
    "%matplotlib inline\n",
    "import pandas as pd\n",
    "import numpy as np\n",
    "from math import sqrt, floor, ceil\n",
    "from matplotlib import pyplot as plt\n",
    "import matplotlib.mlab as mlab\n",
    "import seaborn as sns"
   ]
  },
  {
   "cell_type": "code",
   "execution_count": 16,
   "metadata": {
    "collapsed": false
   },
   "outputs": [
    {
     "data": {
      "text/html": [
       "<div>\n",
       "<table border=\"1\" class=\"dataframe\">\n",
       "  <thead>\n",
       "    <tr style=\"text-align: right;\">\n",
       "      <th></th>\n",
       "      <th>Congruent</th>\n",
       "      <th>Incongruent</th>\n",
       "    </tr>\n",
       "  </thead>\n",
       "  <tbody>\n",
       "    <tr>\n",
       "      <th>0</th>\n",
       "      <td>12.079</td>\n",
       "      <td>19.278</td>\n",
       "    </tr>\n",
       "    <tr>\n",
       "      <th>1</th>\n",
       "      <td>16.791</td>\n",
       "      <td>18.741</td>\n",
       "    </tr>\n",
       "    <tr>\n",
       "      <th>2</th>\n",
       "      <td>9.564</td>\n",
       "      <td>21.214</td>\n",
       "    </tr>\n",
       "    <tr>\n",
       "      <th>3</th>\n",
       "      <td>8.630</td>\n",
       "      <td>15.687</td>\n",
       "    </tr>\n",
       "    <tr>\n",
       "      <th>4</th>\n",
       "      <td>14.669</td>\n",
       "      <td>22.803</td>\n",
       "    </tr>\n",
       "  </tbody>\n",
       "</table>\n",
       "</div>"
      ],
      "text/plain": [
       "   Congruent  Incongruent\n",
       "0     12.079       19.278\n",
       "1     16.791       18.741\n",
       "2      9.564       21.214\n",
       "3      8.630       15.687\n",
       "4     14.669       22.803"
      ]
     },
     "execution_count": 16,
     "metadata": {},
     "output_type": "execute_result"
    }
   ],
   "source": [
    "# Importing the provided data into a pandas dataframe and displaying the top of the imported data.\n",
    "stroopdata = pd.read_csv('stroopdata.csv')\n",
    "stroopdata.head()"
   ]
  },
  {
   "cell_type": "markdown",
   "metadata": {},
   "source": [
    "## Question 3: Report some descriptive statistics regarding this dataset. Include at least one measure of central tendency and at least one measure of variability.\n",
    "\n",
    "In an effort to not be lazy and test my understanding of the concepts, I'll limit my use of pandas builtin functions for the rest of the project, and do most calculations using pure Python.\n",
    "\n",
    "In the following cells you will find:\n",
    "1. Functions\n",
    "2. Descriptive statistics for each sample independently\n",
    "3. Descriptive statistics for the difference between the 2 samples, which I will use later to test my hypothesis"
   ]
  },
  {
   "cell_type": "code",
   "execution_count": 17,
   "metadata": {
    "collapsed": true
   },
   "outputs": [],
   "source": [
    "# Functions used\n",
    "def get_mean(vals):\n",
    "    n = len(vals)\n",
    "    return sum(vals) / n\n",
    "\n",
    "def get_median(vals):\n",
    "    n = len(vals)\n",
    "    if n % 2 == 0:\n",
    "        return sum((sorted(vals))[n/2 - 1:n/2 + 1]) / 2\n",
    "    return (sorted(vals))[(n - 1)/2]\n",
    "        \n",
    "def get_std(vals):\n",
    "    n = len(vals)\n",
    "    mean = get_mean(vals)\n",
    "    return sqrt(sum([(val - mean)**2 for val in vals]) / (n - 1))"
   ]
  },
  {
   "cell_type": "code",
   "execution_count": 18,
   "metadata": {
    "collapsed": false
   },
   "outputs": [
    {
     "name": "stdout",
     "output_type": "stream",
     "text": [
      "Sample size n\t 24\n",
      "Stats for Congruent Words:\n",
      " Mean\t 14.051125\n",
      " Median\t 14.356500\n",
      " SD\t 3.559358\n",
      "Stats for Incongruent Words:\n",
      " Mean\t 22.015917\n",
      " Median\t 21.017500\n",
      " SD\t 4.797057\n"
     ]
    }
   ],
   "source": [
    "# Descriptive Statistics for each sample\n",
    "\n",
    "# Sample size n\n",
    "n = len(stroopdata.index)\n",
    "\n",
    "# Get the values from the dataframe\n",
    "congruent = stroopdata['Congruent'].values\n",
    "incongruent = stroopdata['Incongruent'].values\n",
    "\n",
    "# Descriptive Statistics\n",
    "mean_c = get_mean(congruent)\n",
    "median_c = get_median(congruent)\n",
    "std_c = get_std(congruent)\n",
    "\n",
    "mean_ic = get_mean(incongruent)\n",
    "median_ic = get_median(incongruent)\n",
    "std_ic = get_std(incongruent)\n",
    "\n",
    "# Printing the stats\n",
    "print(\"Sample size n\\t %d\" % n)\n",
    "print(\"Stats for Congruent Words:\")\n",
    "print(\" Mean\\t %f\" % mean_c)\n",
    "print(\" Median\\t %f\" % median_c)\n",
    "print(\" SD\\t %f\" % std_c)\n",
    "print(\"Stats for Incongruent Words:\")\n",
    "print(\" Mean\\t %f\" % mean_ic)\n",
    "print(\" Median\\t %f\" % median_ic)\n",
    "print(\" SD\\t %f\" % std_ic)"
   ]
  },
  {
   "cell_type": "markdown",
   "metadata": {},
   "source": [
    "For both samples the mean and median are fairly equal, which suggests the data distribution is not skewed."
   ]
  },
  {
   "cell_type": "code",
   "execution_count": 19,
   "metadata": {
    "collapsed": false
   },
   "outputs": [
    {
     "name": "stdout",
     "output_type": "stream",
     "text": [
      "Stats for the difference:\n",
      " Mean\t -7.964792\n",
      " Median\t -7.666500\n",
      " SD\t 4.864827\n"
     ]
    }
   ],
   "source": [
    "# Descriptive Statistics for the difference\n",
    "\n",
    "# Generating a list of difference values\n",
    "difference = [congruent[i] - incongruent[i] for i in range(n)]\n",
    "\n",
    "# Descriptive Statistics\n",
    "mean_diff = get_mean(difference)\n",
    "median_diff = get_median(difference)\n",
    "std_diff = get_std(difference)\n",
    "\n",
    "# Printing the stats\n",
    "print(\"Stats for the difference:\")\n",
    "print(\" Mean\\t %f\" % mean_diff)\n",
    "print(\" Median\\t %f\" % median_diff)\n",
    "print(\" SD\\t %f\" % std_diff)"
   ]
  },
  {
   "cell_type": "markdown",
   "metadata": {},
   "source": [
    "## Question 4: Provide one or two visualizations that show the distribution of the sample data. Write one or two sentences noting what you observe about the plot or plots."
   ]
  },
  {
   "cell_type": "code",
   "execution_count": 21,
   "metadata": {
    "collapsed": false
   },
   "outputs": [
    {
     "data": {
      "text/plain": [
       "(array([ 0.,  0.,  0.,  0.,  0.,  0.,  0.,  0.,  0.,  1.,  4.,  3.,  6.,\n",
       "         3.,  3.,  2.,  0.,  0.,  0.,  0.,  1.,  1.,  0.,  0.]),\n",
       " array([  0.        ,   1.66666667,   3.33333333,   5.        ,\n",
       "          6.66666667,   8.33333333,  10.        ,  11.66666667,\n",
       "         13.33333333,  15.        ,  16.66666667,  18.33333333,\n",
       "         20.        ,  21.66666667,  23.33333333,  25.        ,\n",
       "         26.66666667,  28.33333333,  30.        ,  31.66666667,\n",
       "         33.33333333,  35.        ,  36.66666667,  38.33333333,  40.        ]),\n",
       " <a list of 24 Patch objects>)"
      ]
     },
     "execution_count": 21,
     "metadata": {},
     "output_type": "execute_result"
    },
    {
     "data": {
      "image/png": "[encoded data removed]",
      "text/plain": [
       "<matplotlib.figure.Figure at 0xbb024e0>"
      ]
     },
     "metadata": {},
     "output_type": "display_data"
    }
   ],
   "source": [
    "# Plotting a histogram for both samples\n",
    "\n",
    "bins = 24\n",
    "rng = [0, 40]\n",
    "\n",
    "plt.hist(congruent, bins=bins, range=rng, fc=(0, 0, 1, 0.5))\n",
    "plt.hist(incongruent, bins=bins, range=rng, fc=(1, 0, 0, 0.5))"
   ]
  },
  {
   "cell_type": "markdown",
   "metadata": {},
   "source": [
    "In general both plots seem to have a similar shape, only shifted away from eachother. However, what strikes me as odd is the couple of values on their own on the high end of the x-axis.\n",
    "\n",
    "I decide to check if these are outliers, by checking if they are higher than $Q_3 + 1.5 * IQR$."
   ]
  },
  {
   "cell_type": "code",
   "execution_count": 22,
   "metadata": {
    "collapsed": false
   },
   "outputs": [
    {
     "name": "stdout",
     "output_type": "stream",
     "text": [
      "Value is an outlier\n"
     ]
    }
   ],
   "source": [
    "# The value most likely to be an outlier is the maximum value in the series\n",
    "max_ic = max(incongruent)\n",
    "\n",
    "# Calculating the IQR. Knowing n = 24 I'm keeping it simple and not checking for evenness\n",
    "q1 = get_median(sorted(incongruent)[:n/2])\n",
    "q3 = get_median(sorted(incongruent)[n/2:])\n",
    "iqr = q3 - q1\n",
    "max_critical = q3 + iqr * 1.5\n",
    "\n",
    "# Check if max is larger than max critical\n",
    "if max_ic > max_critical:\n",
    "    print(\"Value is an outlier\")\n",
    "else:\n",
    "    print(\"Value is not an outlier\")"
   ]
  },
  {
   "cell_type": "code",
   "execution_count": 32,
   "metadata": {
    "collapsed": false
   },
   "outputs": [
    {
     "data": {
      "text/plain": [
       "<matplotlib.axes._subplots.AxesSubplot at 0xcdcce80>"
      ]
     },
     "execution_count": 32,
     "metadata": {},
     "output_type": "execute_result"
    },
    {
     "data": {
      "image/png": "[encoded data removed]",
      "text/plain": [
       "<matplotlib.figure.Figure at 0xc3c6dd8>"
      ]
     },
     "metadata": {},
     "output_type": "display_data"
    }
   ],
   "source": [
    "# Plotting a boxplot of the incongruent condition sample to show the outliers\n",
    "sns.boxplot(incongruent)"
   ]
  },
  {
   "cell_type": "code",
   "execution_count": 23,
   "metadata": {
    "collapsed": false
   },
   "outputs": [
    {
     "data": {
      "text/plain": [
       "2"
      ]
     },
     "execution_count": 23,
     "metadata": {},
     "output_type": "execute_result"
    }
   ],
   "source": [
    "# Checking amount of outliers\n",
    "len([v for v in incongruent if v > max_critical])"
   ]
  },
  {
   "cell_type": "markdown",
   "metadata": {},
   "source": [
    "There are 2 outliers. I want to see now how the descriptive statistics differ if I take out the outliers"
   ]
  },
  {
   "cell_type": "code",
   "execution_count": 24,
   "metadata": {
    "collapsed": false
   },
   "outputs": [
    {
     "name": "stdout",
     "output_type": "stream",
     "text": [
      "Stats for Congruent Words without outliers:\n",
      " Mean\t 13.939000\n",
      " Median\t 14.356500\n",
      " SD\t 3.592773\n",
      "Stats for Incongruent Words without outliers:\n",
      " Mean\t 20.856318\n",
      " Median\t 20.820000\n",
      " SD\t 2.876923\n",
      "Stats for Congruent Words:\n",
      " Mean\t 14.051125\n",
      " Median\t 14.356500\n",
      " SD\t 3.559358\n",
      "Stats for Incongruent Words:\n",
      " Mean\t 22.015917\n",
      " Median\t 21.017500\n",
      " SD\t 4.797057\n",
      "Differences in mean and SD for Congruent Words:\n",
      "0.112125\n",
      "-0.0334150528248\n",
      "Differences in mean and SD for Incongruent Words:\n",
      "1.15959848485\n",
      "1.92013462014\n"
     ]
    }
   ],
   "source": [
    "congruent_no_outliers = [congruent[i] for i in range(len(congruent)) if incongruent[i] <= max_critical]\n",
    "incongruent_no_outliers = [incongruent[i] for i in range(len(incongruent)) if incongruent[i] <= max_critical]\n",
    "\n",
    "# Statistics\n",
    "mean_c_no_outliers = get_mean(congruent_no_outliers)\n",
    "median_c_no_outliers = get_median(congruent_no_outliers)\n",
    "std_c_no_outliers = get_std(congruent_no_outliers)\n",
    "\n",
    "mean_ic_no_outliers = get_mean(incongruent_no_outliers)\n",
    "median_ic_no_outliers = get_median(incongruent_no_outliers)\n",
    "std_ic_no_outliers = get_std(incongruent_no_outliers)\n",
    "\n",
    "# Print\n",
    "print(\"Stats for Congruent Words without outliers:\")\n",
    "print(\" Mean\\t %f\" % mean_c_no_outliers)\n",
    "print(\" Median\\t %f\" % median_c_no_outliers)\n",
    "print(\" SD\\t %f\" % std_c_no_outliers)\n",
    "print(\"Stats for Incongruent Words without outliers:\")\n",
    "print(\" Mean\\t %f\" % mean_ic_no_outliers)\n",
    "print(\" Median\\t %f\" % median_ic_no_outliers)\n",
    "print(\" SD\\t %f\" % std_ic_no_outliers)\n",
    "\n",
    "# Print previous stats\n",
    "print(\"Stats for Congruent Words:\")\n",
    "print(\" Mean\\t %f\" % mean_c)\n",
    "print(\" Median\\t %f\" % median_c)\n",
    "print(\" SD\\t %f\" % std_c)\n",
    "print(\"Stats for Incongruent Words:\")\n",
    "print(\" Mean\\t %f\" % mean_ic)\n",
    "print(\" Median\\t %f\" % median_ic)\n",
    "print(\" SD\\t %f\" % std_ic)\n",
    "\n",
    "# Print differences\n",
    "print(\"Differences in mean and SD for Congruent Words:\")\n",
    "print(mean_c - mean_c_no_outliers)\n",
    "print(std_c - std_c_no_outliers)\n",
    "print(\"Differences in mean and SD for Incongruent Words:\")\n",
    "print(mean_ic - mean_ic_no_outliers)\n",
    "print(std_ic - std_ic_no_outliers)"
   ]
  },
  {
   "cell_type": "markdown",
   "metadata": {},
   "source": [
    "The following is a plot normal distributions of both samples, either with outliers, or without."
   ]
  },
  {
   "cell_type": "code",
   "execution_count": 25,
   "metadata": {
    "collapsed": false
   },
   "outputs": [
    {
     "data": {
      "text/plain": [
       "[<matplotlib.lines.Line2D at 0xc12ccf8>]"
      ]
     },
     "execution_count": 25,
     "metadata": {},
     "output_type": "execute_result"
    },
    {
     "data": {
      "image/png": "[encoded data removed]",
      "text/plain": [
       "<matplotlib.figure.Figure at 0xbdc4358>"
      ]
     },
     "metadata": {},
     "output_type": "display_data"
    }
   ],
   "source": [
    "x = np.linspace(0, 40,100)\n",
    "plt.plot(x,mlab.normpdf(x, mean_c, std_c))\n",
    "plt.plot(x,mlab.normpdf(x, mean_ic, std_ic))\n",
    "plt.plot(x,mlab.normpdf(x, mean_c_no_outliers, std_c_no_outliers))\n",
    "plt.plot(x,mlab.normpdf(x, mean_ic_no_outliers, std_ic_no_outliers))"
   ]
  },
  {
   "cell_type": "markdown",
   "metadata": {},
   "source": [
    "As you can see, the plot for the congruent words stays fairly unchanged. The incongruent words curve however changes quite a bit:\n",
    "- The difference in means lowers\n",
    "- The SD lowers as well, making the data look a lot more optimistic\n",
    "\n",
    "**I decide the more conservative approach is still to continue with the complete dataset, including outliers.**"
   ]
  },
  {
   "cell_type": "markdown",
   "metadata": {},
   "source": [
    "## Question 5: Now, perform the statistical test and report your results. What is your confidence level and your critical statistic value? Do you reject the null hypothesis or fail to reject it? Come to a conclusion in terms of the experiment task. Did the results match up with your expectations?\n",
    "\n",
    "- Degrees of freedom = 24 - 1 = 23\n",
    "- $t_{critical}$ according to t-table for an $\\alpha$ level of 0.05 (two-tailed) = +/- 2.069"
   ]
  },
  {
   "cell_type": "code",
   "execution_count": 26,
   "metadata": {
    "collapsed": false
   },
   "outputs": [
    {
     "data": {
      "text/plain": [
       "-8.020706944109957"
      ]
     },
     "execution_count": 26,
     "metadata": {},
     "output_type": "execute_result"
    }
   ],
   "source": [
    "SE = std_diff / sqrt(n)\n",
    "t = mean_diff / SE\n",
    "t"
   ]
  },
  {
   "cell_type": "markdown",
   "metadata": {},
   "source": [
    "As we can see, t is significantly lower than the critical value of -2.069\n",
    "\n",
    "Using Graphpad we can determine the actual P value from this t, being P < 0.0001\n",
    "\n",
    "I **reject the null hypothesis**\n",
    "\n",
    "The time it takes to read incongruently colored words is significantly longer than the time for congruently colored words."
   ]
  },
  {
   "cell_type": "code",
   "execution_count": 27,
   "metadata": {
    "collapsed": false
   },
   "outputs": [
    {
     "data": {
      "text/plain": [
       "0.73663641614450603"
      ]
     },
     "execution_count": 27,
     "metadata": {},
     "output_type": "execute_result"
    }
   ],
   "source": [
    "r_squared = t**2 / (t**2 + 23)\n",
    "r_squared"
   ]
  },
  {
   "cell_type": "markdown",
   "metadata": {},
   "source": [
    "As a measure of effect size I calculated $r^2$ = 0.74, meaning 74% of the difference between the two means can be explained by the independent variable. This is very high."
   ]
  },
  {
   "cell_type": "markdown",
   "metadata": {},
   "source": [
    "## Question 6: Optional: What do you think is responsible for the effects observed? Can you think of an alternative or similar task that would result in a similar effect? Some research about the problem will be helpful for thinking about these two questions!\n",
    "\n",
    "1. I think because different parts of the brain process the words differently, processing takes longer if two parts come to a different conclusion. If the 'left side' reads the word, and the 'right side' looks at the color, both will come up with a different answer in case of the incongruent words condition.\n",
    "\n",
    "2. Maybe, measuring the amount of time it takes to get started rubbing your belly and tapping your head as opposed to rubbing both your belly and you head ;)"
   ]
  },
  {
   "cell_type": "markdown",
   "metadata": {},
   "source": [
    "---\n",
    "\n",
    "## Sources\n",
    "\n",
    "The following is a list of all information I had to look up to complete this project\n",
    "\n",
    "- http://daringfireball.net/projects/markdown/syntax: reference for markdown syntax in notebooks\n",
    "- https://answers.squarespace.com/questions/35945/how-to-change-font-type-and-colour-for-a-few-words.html: how to change the color of words in the first section\n",
    "- http://meta.math.stackexchange.com/questions/5020/mathjax-basic-tutorial-and-quick-reference: reference for using LaTeX symbols\n",
    "- http://stackoverflow.com/questions/23447262/fitting-a-gaussian-to-a-histogram-with-matplotlib-and-numpy-wrong-y-scaling: when looking how to plot a normal distribution with matplotlib\n",
    "- http://stackoverflow.com/questions/28398200/matplotlib-plotting-transparent-histogram-with-non-transparent-edge: when looking up how to make my histograms transparent as to visualize both samples in one plot"
   ]
  },
  {
   "cell_type": "code",
   "execution_count": null,
   "metadata": {
    "collapsed": true
   },
   "outputs": [],
   "source": []
  }
 ],
 "metadata": {
  "anaconda-cloud": {},
  "kernelspec": {
   "display_name": "Python [conda env:DAND]",
   "language": "python",
   "name": "conda-env-DAND-py"
  },
  "language_info": {
   "codemirror_mode": {
    "name": "ipython",
    "version": 2
   },
   "file_extension": ".py",
   "mimetype": "text/x-python",
   "name": "python",
   "nbconvert_exporter": "python",
   "pygments_lexer": "ipython2",
   "version": "2.7.12"
  }
 },
 "nbformat": 4,
 "nbformat_minor": 2
}
